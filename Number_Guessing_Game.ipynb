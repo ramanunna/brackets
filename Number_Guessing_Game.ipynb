{
  "nbformat": 4,
  "nbformat_minor": 0,
  "metadata": {
    "colab": {
      "provenance": [],
      "authorship_tag": "ABX9TyNLkdq+T8LJ6KVG8PqJAJwD",
      "include_colab_link": true
    },
    "kernelspec": {
      "name": "python3",
      "display_name": "Python 3"
    },
    "language_info": {
      "name": "python"
    }
  },
  "cells": [
    {
      "cell_type": "markdown",
      "metadata": {
        "id": "view-in-github",
        "colab_type": "text"
      },
      "source": [
        "<a href=\"https://colab.research.google.com/github/ramanunna/brackets/blob/master/Number_Guessing_Game.ipynb\" target=\"_parent\"><img src=\"https://colab.research.google.com/assets/colab-badge.svg\" alt=\"Open In Colab\"/></a>"
      ]
    },
    {
      "cell_type": "code",
      "execution_count": 6,
      "metadata": {
        "colab": {
          "base_uri": "https://localhost:8080/"
        },
        "id": "LfTIqcJyhcFP",
        "outputId": "cc46f143-887f-410d-f916-e443ccf3ffa9"
      },
      "outputs": [
        {
          "output_type": "stream",
          "name": "stdout",
          "text": [
            "I'm guessing of a number between 1 and 100.\n",
            "Enter your guess56\n",
            "Too high! Try again.\n",
            "Enter your guess45\n",
            "Too low! Try again.\n",
            "Enter your guess52\n",
            "Congratulations! You guessed it in 3 attempts.\n",
            "Welcome to number guessing game!\n"
          ]
        }
      ],
      "source": [
        "\n",
        "\n",
        "import random\n",
        "\n",
        "def number_guessing_game():\n",
        "  print(\"Welcome to number guessing game!\")\n",
        "print(\"I'm guessing of a number between 1 and 100.\")\n",
        "\n",
        "#Generate a random number\n",
        "random_number = random.randint(1,100)\n",
        "attempts = 0\n",
        "\n",
        "while True:\n",
        "  try:\n",
        "  #get users guessing\n",
        "    guess = int(input(\"Enter your guess\"))\n",
        "    attempts +=1\n",
        "\n",
        "    if guess < random_number:\n",
        "      print(\"Too low! Try again.\")\n",
        "\n",
        "    elif guess > random_number:\n",
        "      print(\"Too high! Try again.\")\n",
        "    else:\n",
        "      print(f\"Congratulations! You guessed it in {attempts} attempts.\")\n",
        "      break\n",
        "\n",
        "  except ValueError:\n",
        "    print(\"please enter a valid number.\")\n",
        "\n",
        "\n",
        "# Start the game\n",
        "number_guessing_game()\n",
        "\n"
      ]
    }
  ]
}